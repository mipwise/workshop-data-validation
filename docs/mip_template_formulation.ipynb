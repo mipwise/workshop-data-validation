{
 "cells": [
  {
   "cell_type": "markdown",
   "metadata": {},
   "source": [
    "# Template Formulation\n",
    "*Author(s): Name of the author(s)*   \n",
    "*Month, Year*.\n",
    "\n",
    "Problem description goes here."
   ]
  },
  {
   "cell_type": "markdown",
   "metadata": {},
   "source": [
    "### Input Data Model\n"
   ]
  },
  {
   "cell_type": "markdown",
   "metadata": {},
   "source": [
    "#### Indices\n",
    "- $I$: Collection of products.\n",
    "- $J$: Collection of locations.\n",
    "- $T$: Collection of time periods."
   ]
  },
  {
   "cell_type": "markdown",
   "metadata": {},
   "source": [
    "#### Parameters\n",
    "- $c_{jt}$: Cost (dollar/period) to operate Location $j$ in Period $t$.\n",
    "- $d_{it}$: Demand (Kg) of Product $i$ in Period $t$."
   ]
  },
  {
   "cell_type": "markdown",
   "metadata": {},
   "source": [
    "### Decision Variables\n",
    "- $x_{ijt}$:\tAmount (Kg) of Product $i$ to be produced in Location $j$ in Period $t$.\n",
    "- $z_{jt}$: Equals $1$ if Location $j$ is operational in Period $t$, $0$ otherwise."
   ]
  },
  {
   "cell_type": "markdown",
   "metadata": {},
   "source": [
    "### Constraints\n",
    "* C1) Demand for Product $i$ must be met:\n",
    "$$\\sum_j x_{ijt} \\geq d_{it}, \\quad \\forall i, t.$$\n",
    "\n",
    "* C2) There is production in Location $j$ in Period $t$ if and only if Location $j$ is operational in Period $t$:\n",
    "$$\\sum_i x_{ijt} \\leq M \\cdot z_{jt}, \\quad \\forall j, t.$$\n",
    "The constant $M$ is an upper bound on the production of Location $j$ in Period $t$."
   ]
  },
  {
   "cell_type": "markdown",
   "metadata": {},
   "source": [
    "### Objective\n",
    "The goal is to minimize the total operation cost:\n",
    "$$\\min{\\sum_{jt} c_{jt} \\cdot z_{jt}}.$$"
   ]
  },
  {
   "cell_type": "markdown",
   "metadata": {},
   "source": [
    "### Final Formulation\n",
    "$$\n",
    "\\begin{eqnarray*}\n",
    "\\begin{array}{rcl}\n",
    "&\\min & \\displaystyle\\sum_{jt} c_{jt} \\cdot z_{jt}\\\\\n",
    "&\\text{s.t.} &\\displaystyle\\sum_j x_{ijt} \\geq d_{it}, \\quad \\forall i, t,\\\\\n",
    "&&\\displaystyle\\sum_i x_{ijt} \\leq M \\cdot z_{jt}, \\quad \\forall j, t,\\\\\n",
    "&&x_{ijt} \\geq 0, \\quad \\forall i, j, t,\\\\\n",
    "&&z_{jt} \\in \\{0, 1\\}, \\quad \\forall j, t.\n",
    "\\end{array}\n",
    "\\end{eqnarray*}\n",
    "$$"
   ]
  }
 ],
 "metadata": {
  "kernelspec": {
   "display_name": "Python 3 (ipykernel)",
   "language": "python",
   "name": "python3"
  },
  "language_info": {
   "codemirror_mode": {
    "name": "ipython",
    "version": 3
   },
   "file_extension": ".py",
   "mimetype": "text/x-python",
   "name": "python",
   "nbconvert_exporter": "python",
   "pygments_lexer": "ipython3",
   "version": "3.9.5"
  }
 },
 "nbformat": 4,
 "nbformat_minor": 2
}
